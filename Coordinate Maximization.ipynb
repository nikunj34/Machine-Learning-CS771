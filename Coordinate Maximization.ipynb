{
 "cells": [
  {
   "cell_type": "code",
   "execution_count": 200,
   "metadata": {},
   "outputs": [],
   "source": [
    "import numpy as np\n",
    "import random as rnd\n",
    "import time as tm\n",
    "from matplotlib import pyplot as plt\n",
    "%matplotlib inline"
   ]
  },
  {
   "cell_type": "code",
   "execution_count": 201,
   "metadata": {},
   "outputs": [
    {
     "name": "stdout",
     "output_type": "stream",
     "text": [
      "[[ 1.        0.524383  1.       ...  0.        0.047977  1.      ]\n",
      " [-1.        0.369324  0.       ...  0.       -0.07759   1.      ]\n",
      " [-1.        0.255859  0.       ...  0.        0.432525  1.      ]\n",
      " ...\n",
      " [-1.        0.184265  0.       ...  1.        0.054889  1.      ]\n",
      " [-1.        0.233307  0.       ...  0.       -0.054833  1.      ]\n",
      " [-1.        0.492432  0.       ...  0.       -0.266911  1.      ]]\n"
     ]
    }
   ],
   "source": [
    "Z = np.loadtxt( \"data\" )\n",
    "np.random.shuffle(Z)\n",
    "d = Z.shape[1]-1\n",
    "n = Z.shape[0]\n",
    "\n",
    "extra_1 = np.ones((n,1))\n",
    "\n",
    "Z1 = np.append(Z,extra_1,axis = 1)\n",
    "print(Z1)\n",
    "y = Z1[:,0]\n",
    "X = Z1[:,1:]\n",
    "lim = int(0.8*n)\n",
    "d = d+1\n",
    "train_x = Z[:lim,1:]\n",
    "train_y = Z[:lim,0]\n",
    "test_x = Z[lim:,1:]\n",
    "test_y = Z[lim:,0]"
   ]
  },
  {
   "cell_type": "code",
   "execution_count": 202,
   "metadata": {},
   "outputs": [],
   "source": [
    "# Get the CSVM objective value in order to plot convergence curves\n",
    "def getCSVMObjVal( theta ):\n",
    "    \n",
    "    hingeLoss = np.maximum( 1 - np.multiply( (X.dot( theta ) ), y ), 0 )\n",
    "    #print(\"Hinge loss = \"+str(hingeLoss))\n",
    "    return 0.5 * theta.dot( theta ) + C * np.dot(hingeLoss,hingeLoss.T)"
   ]
  },
  {
   "cell_type": "code",
   "execution_count": 203,
   "metadata": {},
   "outputs": [],
   "source": [
    "def getCyclicCoord( currentCoord ):\n",
    "    if currentCoord >= lim-1 or currentCoord < 0:\n",
    "        return 0\n",
    "    else:\n",
    "        return currentCoord + 1"
   ]
  },
  {
   "cell_type": "code",
   "execution_count": 204,
   "metadata": {},
   "outputs": [],
   "source": [
    "def getRandCoord( currentCoord ):\n",
    "    return rnd.randint( 0, lim-1 )"
   ]
  },
  {
   "cell_type": "code",
   "execution_count": 205,
   "metadata": {},
   "outputs": [],
   "source": [
    "def getRandpermCoord( currentCoord ):\n",
    "    global randperm, randpermInner\n",
    "    if randpermInner >= lim-1 or randpermInner < 0 or currentCoord < 0:\n",
    "        randpermInner = 0\n",
    "        randperm = np.random.permutation( y.size )\n",
    "        return randperm[randpermInner]\n",
    "    else:\n",
    "        randpermInner = randpermInner + 1\n",
    "        return randperm[randpermInner]"
   ]
  },
  {
   "cell_type": "code",
   "execution_count": 206,
   "metadata": {},
   "outputs": [],
   "source": [
    "def doSDCM( getCoordFunc, init, horizon = 10 ):\n",
    "    primalObjValSeries = np.zeros( (horizon,) )\n",
    "    dualObjValSeries = np.zeros( (horizon,) )\n",
    "    timeSeries = np.zeros( (horizon,) )\n",
    "    totTime = 0\n",
    "    \n",
    "    # Initialize model as well as some bookkeeping variables\n",
    "    alpha = init\n",
    "    alphay = np.multiply( alpha, y )\n",
    "    # Initialize the model vector using the equations relating primal and dual variables\n",
    "    w = X.T.dot( alphay )\n",
    "    # Recall that we are imagining here that the data points have one extra dimension of ones\n",
    "    # This extra dimension plays the role of the bias in this case\n",
    "   \n",
    "    # Calculate squared norms taking care that we are appending an extra dimension of ones\n",
    "    normSq = np.square( np.linalg.norm( X, axis = 1 ) )\n",
    "    # We have not made any choice of coordinate yet\n",
    "    i = -1\n",
    "    \n",
    "    for t in range( horizon ):\n",
    "        tic = tm.perf_counter()\n",
    "        \n",
    "        i = getCoordFunc( i )\n",
    "        x = X[i,:]\n",
    "        \n",
    "        # Find the unconstrained new optimal value of alpha_i\n",
    "        newAlphai = (1 - y[i] * (x.dot(w)) + alpha[i] * normSq[i]) / (normSq[i] + 0.5/C)\n",
    "        # Make sure that the constraints are satisfied\n",
    "        if newAlphai < 0:\n",
    "            newAlphai = 0\n",
    "        \n",
    "        # Update the model vector and bias values\n",
    "        # Takes only O(d) time to do so :)\n",
    "        w = w + (newAlphai - alpha[i]) * y[i] * x\n",
    "        alpha[i] = newAlphai\n",
    "\n",
    "        toc = tm.perf_counter()\n",
    "        totTime = totTime + (toc - tic)\n",
    "        if t%10000 ==0:\n",
    "            print(t)\n",
    "        primalObjValSeries[t] = getCSVMObjVal( w )\n",
    "        #dualObjValSeries[t] = getCSVMObjValDual( alpha, w, b )\n",
    "        timeSeries[t] = totTime\n",
    "        \n",
    "    print( \"nSV = \", np.sum( alpha > C/100 ), \" out of \", y.size, \"data points\" )    \n",
    "    return (w, primalObjValSeries, dualObjValSeries, timeSeries)\n"
   ]
  },
  {
   "cell_type": "code",
   "execution_count": 210,
   "metadata": {},
   "outputs": [
    {
     "name": "stdout",
     "output_type": "stream",
     "text": [
      "0\n",
      "10000\n",
      "20000\n",
      "30000\n",
      "40000\n",
      "50000\n",
      "60000\n",
      "70000\n",
      "80000\n",
      "90000\n",
      "100000\n",
      "110000\n",
      "120000\n",
      "130000\n",
      "140000\n",
      "150000\n",
      "160000\n",
      "170000\n",
      "180000\n",
      "190000\n",
      "200000\n",
      "210000\n",
      "220000\n",
      "230000\n",
      "240000\n",
      "250000\n",
      "260000\n",
      "270000\n",
      "280000\n",
      "290000\n",
      "nSV =  8952  out of  20000 data points\n"
     ]
    }
   ],
   "source": [
    "# Final values of w and b\n",
    "\n",
    "randperm = np.random.permutation( y.size )\n",
    "randpermInner = -1\n",
    "C = 1\n",
    "eta = 0.01\n",
    "y = Z1[:,0]\n",
    "X = Z1[:,1:]\n",
    "(theta_SDCM, primal_SDCM, dual_SDCM, time_SDCM) = doSDCM( getRandCoord, C * np.zeros( (y.size,) ), horizon = 300000 )\n"
   ]
  },
  {
   "cell_type": "code",
   "execution_count": 218,
   "metadata": {},
   "outputs": [
    {
     "data": {
      "image/png": "[encoded data removed]",
      "text/plain": [
       "<Figure size 432x288 with 1 Axes>"
      ]
     },
     "metadata": {
      "needs_background": "light"
     },
     "output_type": "display_data"
    }
   ],
   "source": [
    "plt.plot( time_SDCM, primal_SDCM, color = 'b', linestyle = '-', label = \"SDCM Primal\" )\n",
    "#plt.plot( time_SDCM, dual_SDCM, color = 'b', linestyle = ':', label = \"SDCM Dual\" )\n",
    "#plt.plot( time_SGD, obj_SGD, color = 'r', linestyle = '-', label = \"SGD\" )\n",
    "plt.legend()\n",
    "plt.xlabel( \"Elapsed time (sec)\" )\n",
    "plt.ylabel( \"C-SVM Objective value\" )\n",
    "plt.ylim( 10**3, 10*10**3)\n",
    "plt.show()"
   ]
  },
  {
   "cell_type": "code",
   "execution_count": 212,
   "metadata": {},
   "outputs": [
    {
     "data": {
      "text/plain": [
       "5296.815415192437"
      ]
     },
     "execution_count": 212,
     "metadata": {},
     "output_type": "execute_result"
    }
   ],
   "source": [
    "primal_SDCM[-1]"
   ]
  },
  {
   "cell_type": "code",
   "execution_count": 220,
   "metadata": {},
   "outputs": [
    {
     "data": {
      "text/plain": [
       "array([-0.8446657 ,  0.22054605, -0.06297124,  0.53274281,  0.65550638,\n",
       "        0.21306386, -3.43806178,  0.47401096,  0.20474156,  1.2933272 ,\n",
       "       -1.24060256, -0.09931551,  0.47545651,  0.29929617, -0.15468443,\n",
       "        1.08613053,  0.3753558 ,  0.15995374,  0.18520181, -0.4046673 ,\n",
       "       -1.05969057])"
      ]
     },
     "execution_count": 220,
     "metadata": {},
     "output_type": "execute_result"
    }
   ],
   "source": [
    "theta_SDCM"
   ]
  },
  {
   "cell_type": "code",
   "execution_count": 221,
   "metadata": {},
   "outputs": [
    {
     "data": {
      "text/plain": [
       "array([10632.29715298,  8389.75884964,  7743.20469779, ...,\n",
       "        5427.95047554,  5315.63113218,  5296.81541519])"
      ]
     },
     "execution_count": 221,
     "metadata": {},
     "output_type": "execute_result"
    }
   ],
   "source": [
    "primal_SDCM"
   ]
  },
  {
   "cell_type": "code",
   "execution_count": 224,
   "metadata": {},
   "outputs": [],
   "source": [
    "import pickle"
   ]
  },
  {
   "cell_type": "code",
   "execution_count": 225,
   "metadata": {},
   "outputs": [],
   "source": [
    "file = open(\"obj_sdcm\",\"wb\")"
   ]
  },
  {
   "cell_type": "code",
   "execution_count": 226,
   "metadata": {},
   "outputs": [],
   "source": [
    "pickle.dump(primal_SDCM,file)"
   ]
  },
  {
   "cell_type": "code",
   "execution_count": 228,
   "metadata": {},
   "outputs": [],
   "source": [
    "file.close()"
   ]
  },
  {
   "cell_type": "code",
   "execution_count": 229,
   "metadata": {},
   "outputs": [],
   "source": [
    "file = open(\"sdcm_time\",\"wb\")"
   ]
  },
  {
   "cell_type": "code",
   "execution_count": 230,
   "metadata": {},
   "outputs": [],
   "source": [
    "pickle.dump(time_SDCM,file)"
   ]
  },
  {
   "cell_type": "code",
   "execution_count": 231,
   "metadata": {},
   "outputs": [],
   "source": [
    "file.close()"
   ]
  },
  {
   "cell_type": "code",
   "execution_count": 233,
   "metadata": {},
   "outputs": [
    {
     "data": {
      "text/plain": [
       "array([ 0.06565339,  0.06568926,  0.06572551, ..., 18.64310674,\n",
       "       18.6431883 , 18.64324871])"
      ]
     },
     "execution_count": 233,
     "metadata": {},
     "output_type": "execute_result"
    }
   ],
   "source": [
    "time_SDCM"
   ]
  },
  {
   "cell_type": "code",
   "execution_count": null,
   "metadata": {},
   "outputs": [],
   "source": []
  }
 ],
 "metadata": {
  "kernelspec": {
   "display_name": "Python 3",
   "language": "python",
   "name": "python3"
  },
  "language_info": {
   "codemirror_mode": {
    "name": "ipython",
    "version": 3
   },
   "file_extension": ".py",
   "mimetype": "text/x-python",
   "name": "python",
   "nbconvert_exporter": "python",
   "pygments_lexer": "ipython3",
   "version": "3.6.8"
  }
 },
 "nbformat": 4,
 "nbformat_minor": 2
}
